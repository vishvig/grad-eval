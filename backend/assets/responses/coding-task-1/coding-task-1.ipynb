{
 "cells": [
  {
   "cell_type": "markdown",
   "id": "47c1246e-a3b3-4582-a805-c021ff25433f",
   "metadata": {},
   "source": [
    "# Coding task 1\n",
    "\n",
    "## Scenario\n",
    "\n",
    "Earth’s leading astrophysics research agency is investigating distant stars and galaxies through a mysterious form of **luminescent signal** emitted across the **visible spectrum**. These signals, measured in the classic **VIBGYOR** bands (Violet, Indigo, Blue, Green, Yellow, Orange, Red), show unusual patterns suggesting the presence of **multiple astrophysical sources**.\n",
    "\n",
    "The goal of this task is to **simulate such signals** using a **multi-modal normal distribution**, where each mode represents a distinct celestial emission source, and to **visualize & analyze the resulting distribution**.\n",
    "\n",
    "---\n",
    "\n",
    "## Your Task\n",
    "\n",
    "You are required to **implement** the following simulation pipeline from scratch using the *random seed* configuration given to you in the portal:\n",
    "\n",
    "1. **`sample_means_and_stds`**  \n",
    "   A function to sample `7` means and standard deviations (s.t.d. to not be more than `0.6` of mean) within a given value range `(-1000, 1000)`, ensuring the means are well-separated (by `3 s.t.d`).\n",
    "\n",
    "2. **`generate_multi_modal_normal`**  \n",
    "   A function that generates a combined dataset from multiple normal distributions using the sampled means and standard deviations.\n",
    "\n",
    "3. **`simulate_luminescence_vibgyor`**  \n",
    "   A function that:\n",
    "   - Defines the visible light spectrum as 7 channels: `Violet`, `Indigo`, `Blue`, `Green`, `Yellow`, `Orange`, `Red`.\n",
    "   - Samples means and standard deviations.\n",
    "   - Generates data for each color band using your multi-modal distribution function.\n",
    "   - Returns a dictionary of generated data, and the sampled parameters.\n",
    "4. Generate 10000 datapoitns and upload the generated signal values to the portal.\n",
    "\n",
    "CSV output format:\n",
    "| output    | \n",
    "| -------- |\n",
    "| 1.1  |\n",
    "| 0.4 |\n",
    "| -0.97    |\n",
    "| 5.6    |\n",
    "| -2.4    |\n",
    "\n",
    "and so on for 10000 datapoints.\n",
    "\n",
    "---\n",
    "\n",
    "## Analysis Objectives\n",
    "\n",
    "Once your simulation functions are implemented, perform the following:\n",
    "\n",
    "1. **Visualize the distributions** for each color band using histograms or density plots.\n",
    "2. Compute basic **summary statistics**. i.e. the diffent moments of a normal disctibution. What are your insights on the `4` moments of the distribution?\n",
    "3. Comment on the **multi-modal structure**: Are all bands equally separated? Do some show overlap?\n",
    "\n",
    "---\n",
    "\n",
    "## What You Can Use\n",
    "\n",
    "- You may use libraries like NumPy, SciPy, Pandas, Matplotlib, Seaborn, and Scikit-learn.\n",
    "\n",
    "---\n",
    "\n",
    "## Evaluation Criteria\n",
    "\n",
    "- Implementation of required functions and statistical logic\n",
    "- Code readability, modular design, and use of comments  \n",
    "- Correct interpretation of summary statistics and multi-modal distributions\n",
    "- Clarity and effectiveness of visual outputs\n",
    "- Overall clarity, structure, and readability of the notebook\n",
    "\n",
    "Good luck!"
   ]
  },
  {
   "cell_type": "code",
   "execution_count": null,
   "id": "bfef79cc-96f4-4ecd-8be0-bf92a5475cf6",
   "metadata": {},
   "outputs": [],
   "source": [
    "# YOUR RESPONSE STARTS FROM HERE"
   ]
  }
 ],
 "metadata": {
  "kernelspec": {
   "display_name": "Python 3 (ipykernel)",
   "language": "python",
   "name": "python3"
  },
  "language_info": {
   "codemirror_mode": {
    "name": "ipython",
    "version": 3
   },
   "file_extension": ".py",
   "mimetype": "text/x-python",
   "name": "python",
   "nbconvert_exporter": "python",
   "pygments_lexer": "ipython3",
   "version": "3.10.16"
  }
 },
 "nbformat": 4,
 "nbformat_minor": 5
}
