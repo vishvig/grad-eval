{
 "cells": [
  {
   "cell_type": "markdown",
   "id": "f4e154e0-9ba2-4c34-90a0-a6413d0ec355",
   "metadata": {
    "jp-MarkdownHeadingCollapsed": true
   },
   "source": [
    "# Coding Task 3\n",
    "\n",
    "## Scenario\n",
    "\n",
    "After decades of exploration, astronomers have refined their deep space observational techniques and discovered that the **10,000 data points** previously collected are not random signals — they are in fact **planets** scattered across various solar systems.\n",
    "\n",
    "With advanced data acquisition tools, scientists are now able to detect the **elemental constitution** of these planets. Each planet is composed of four natural elements: `Rock`, `Water`, `Air`, and `Fire`. Additionally, there's a property assigned to each planet: **Liveable**, a binary classification (`Yes` or `No`) indicating whether a planet can potentially support life.\n",
    "\n",
    "As a data scientist working on interstellar modeling, your task is to **build a classification model** that can accurately **predict whether a planet is liveable** based on its elemental composition.\n",
    "\n",
    "---\n",
    "\n",
    "## Available Data\n",
    "\n",
    "The dataset should be available to you as part of the zip file you downloaded from the coding task assessment containing:\n",
    "\n",
    "- `Rock`, `Water`, `Air`, `Fire`: Proportions of each element\n",
    "- `Liveable`: The target variable to predict (`Yes` / `No`)\n",
    "\n",
    "The dataset contains exactly **10,000 planets**. You may assume the data is clean and ready for modeling.\n",
    "\n",
    "---\n",
    "\n",
    "## Your Task\n",
    "\n",
    "Complete the following in your Jupyter Notebook:\n",
    "\n",
    "1. Load and explore the dataset.\n",
    "2. Visualize the distribution of features and target classes.\n",
    "3. Build a classification model to predict `Liveable`.\n",
    "4. Evaluate your model using standard classification metrics\n",
    "5. Use **cross-validation** for a more reliable evaluation.\n",
    "6. Provide a brief explanation of your modeling approach.\n",
    "7. Save and upload your trained model into the portal as a **`.pkl` (pickle) file**.\n",
    "\n",
    "---\n",
    "\n",
    "## What You Can Use\n",
    "\n",
    "- Python (NumPy, Pandas, etc.)\n",
    "- Any standard machine learning libraries (scikit-learn, XGBoost, LightGBM, etc.)\n",
    "- Any visualization or EDA libraries (matplotlib, seaborn, plotly, etc.)\n",
    "\n",
    "> *Do not use AutoML tools for this task.*\n",
    "\n",
    "---\n",
    "\n",
    "## Evaluation Criteria\n",
    "\n",
    "- Correct implementation of a classification pipeline\n",
    "- Effective exploratory data analysis and insights\n",
    "- Appropriate feature handling and model evaluation\n",
    "- Use of multiple metrics to assess model performance\n",
    "- Explanation of the methodology that has been implemented\n",
    "- Overall clarity, structure, and readability of the notebook\n",
    "\n",
    "---\n",
    "\n",
    "### Bonus\n",
    "\n",
    "- Implementation of a model and a cross validation from scratch instead of using built-in library functions. *WOULD LOVE TO SEE THIS AND THIS IS A BIG BONUS!*\n",
    "- Perform **feature engineering** and justify any new features you've created & used\n",
    "- Compare multiple classification models and explain your final choice\n",
    "- Use model interpretation techniques to interpret and explain what the model has learnt.\n",
    "- Include a short discussion:  \n",
    "  - Were there any surprising patterns in the data?\n",
    "  - Could the additional features improve the model?\n",
    "\n",
    "---\n",
    "\n",
    "Good luck!"
   ]
  },
  {
   "cell_type": "code",
   "execution_count": null,
   "id": "85bbef45-3b47-42b4-9c02-e22be0cb5015",
   "metadata": {},
   "outputs": [],
   "source": [
    "# YOUR RESPONSE STARTS FROM HERE"
   ]
  }
 ],
 "metadata": {
  "kernelspec": {
   "display_name": "Python 3 (ipykernel)",
   "language": "python",
   "name": "python3"
  },
  "language_info": {
   "codemirror_mode": {
    "name": "ipython",
    "version": 3
   },
   "file_extension": ".py",
   "mimetype": "text/x-python",
   "name": "python",
   "nbconvert_exporter": "python",
   "pygments_lexer": "ipython3",
   "version": "3.10.16"
  }
 },
 "nbformat": 4,
 "nbformat_minor": 5
}
